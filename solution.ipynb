{
 "cells": [
  {
   "cell_type": "markdown",
   "id": "698424dc",
   "metadata": {},
   "source": [
    "# SQL Murder Mystery\n",
    "\n",
    "A crime has taken place and the detective needs your help. The detective gave\n",
    "you the crime scene report, but you somehow lost it.\n",
    "\n",
    "## Clue 1\n",
    "\n",
    "You vaguely remember that the crime was a **murder** that occurred sometime on\n",
    "**Jan. 15, 2018** and that it took place in **SQL City**. Start by retrieving\n",
    "the corresponding crime scene report from the police department's database. If\n",
    "you want to get the most out of this mystery, try to work through it only\n",
    "using your SQL environment and refrain from using a notepad."
   ]
  },
  {
   "cell_type": "code",
   "execution_count": 1,
   "id": "d11de404",
   "metadata": {
    "execution": {
     "iopub.execute_input": "2023-03-17T14:56:51.643250Z",
     "iopub.status.busy": "2023-03-17T14:56:51.642856Z",
     "iopub.status.idle": "2023-03-17T14:56:51.649969Z",
     "shell.execute_reply": "2023-03-17T14:56:51.649541Z"
    }
   },
   "outputs": [],
   "source": [
    "import pandas as pd\n",
    "from IPython.display import Markdown, display"
   ]
  },
  {
   "cell_type": "code",
   "execution_count": 2,
   "id": "b537ee7c",
   "metadata": {
    "execution": {
     "iopub.execute_input": "2023-03-17T14:56:51.652130Z",
     "iopub.status.busy": "2023-03-17T14:56:51.651947Z",
     "iopub.status.idle": "2023-03-17T14:56:51.706420Z",
     "shell.execute_reply": "2023-03-17T14:56:51.706135Z"
    }
   },
   "outputs": [],
   "source": [
    "drivers_license = pd.read_csv(\"drivers_license.zip\")\n",
    "income = pd.read_csv(\"income.zip\")\n",
    "get_fit_now_members = pd.read_csv(\"get_fit_now_members.zip\")\n",
    "interview = pd.read_csv(\"interview.zip\")\n",
    "person = pd.read_csv(\"person.zip\")\n",
    "facebook_event_check_in = pd.read_csv(\"facebook_event_check_in.zip\")\n",
    "get_fit_now_check_in = pd.read_csv(\"get_fit_now_check_in.zip\")\n",
    "crime_scene_report = pd.read_csv(\"crime_scene_report.zip\")"
   ]
  },
  {
   "cell_type": "code",
   "execution_count": 3,
   "id": "47bade5f",
   "metadata": {
    "execution": {
     "iopub.execute_input": "2023-03-17T14:56:51.707830Z",
     "iopub.status.busy": "2023-03-17T14:56:51.707717Z",
     "iopub.status.idle": "2023-03-17T14:56:51.709558Z",
     "shell.execute_reply": "2023-03-17T14:56:51.709320Z"
    }
   },
   "outputs": [],
   "source": [
    "db = [\n",
    "    drivers_license,\n",
    "    income,\n",
    "    get_fit_now_members,\n",
    "    interview,\n",
    "    person,\n",
    "    facebook_event_check_in,\n",
    "    get_fit_now_check_in,\n",
    "    crime_scene_report,\n",
    "]"
   ]
  },
  {
   "cell_type": "markdown",
   "id": "20e5f498",
   "metadata": {},
   "source": [
    "![image.png](https://mystery.knightlab.com/schema.png)"
   ]
  },
  {
   "cell_type": "code",
   "execution_count": 4,
   "id": "d98ff6f8",
   "metadata": {
    "execution": {
     "iopub.execute_input": "2023-03-17T14:56:51.710806Z",
     "iopub.status.busy": "2023-03-17T14:56:51.710670Z",
     "iopub.status.idle": "2023-03-17T14:56:51.718079Z",
     "shell.execute_reply": "2023-03-17T14:56:51.717789Z"
    }
   },
   "outputs": [
    {
     "data": {
      "text/html": [
       "<div>\n",
       "<style scoped>\n",
       "    .dataframe tbody tr th:only-of-type {\n",
       "        vertical-align: middle;\n",
       "    }\n",
       "\n",
       "    .dataframe tbody tr th {\n",
       "        vertical-align: top;\n",
       "    }\n",
       "\n",
       "    .dataframe thead th {\n",
       "        text-align: right;\n",
       "    }\n",
       "</style>\n",
       "<table border=\"1\" class=\"dataframe\">\n",
       "  <thead>\n",
       "    <tr style=\"text-align: right;\">\n",
       "      <th></th>\n",
       "      <th>type</th>\n",
       "      <th>description</th>\n",
       "      <th>city</th>\n",
       "    </tr>\n",
       "    <tr>\n",
       "      <th>date</th>\n",
       "      <th></th>\n",
       "      <th></th>\n",
       "      <th></th>\n",
       "    </tr>\n",
       "  </thead>\n",
       "  <tbody>\n",
       "    <tr>\n",
       "      <th>2018-01-15</th>\n",
       "      <td>murder</td>\n",
       "      <td>Security footage shows that there were 2 witne...</td>\n",
       "      <td>SQL City</td>\n",
       "    </tr>\n",
       "  </tbody>\n",
       "</table>\n",
       "</div>"
      ],
      "text/plain": [
       "              type                                        description  \\\n",
       "date                                                                    \n",
       "2018-01-15  murder  Security footage shows that there were 2 witne...   \n",
       "\n",
       "                city  \n",
       "date                  \n",
       "2018-01-15  SQL City  "
      ]
     },
     "metadata": {},
     "output_type": "display_data"
    }
   ],
   "source": [
    "deposition = (\n",
    "    crime_scene_report.assign(\n",
    "        date=pd.to_datetime(crime_scene_report[\"date\"], format=\"%Y%m%d\")\n",
    "    )\n",
    "    .set_index(\"date\")\n",
    "    .loc[\"1/15/2018\"]\n",
    "    .query(\"type == 'murder' and city == 'SQL City'\")\n",
    ")\n",
    "display(deposition)"
   ]
  },
  {
   "cell_type": "code",
   "execution_count": 5,
   "id": "4841d7b5",
   "metadata": {
    "execution": {
     "iopub.execute_input": "2023-03-17T14:56:51.719222Z",
     "iopub.status.busy": "2023-03-17T14:56:51.719137Z",
     "iopub.status.idle": "2023-03-17T14:56:51.722040Z",
     "shell.execute_reply": "2023-03-17T14:56:51.721803Z"
    }
   },
   "outputs": [
    {
     "data": {
      "text/markdown": [
       "## Clue 2"
      ],
      "text/plain": [
       "<IPython.core.display.Markdown object>"
      ]
     },
     "metadata": {},
     "output_type": "display_data"
    },
    {
     "data": {
      "text/markdown": [
       "Security footage shows that there were 2 witnesses. The first witness lives at the last house on \"Northwestern Dr\". The second witness, named Annabel, lives somewhere on \"Franklin Ave\"."
      ],
      "text/plain": [
       "<IPython.core.display.Markdown object>"
      ]
     },
     "metadata": {},
     "output_type": "display_data"
    }
   ],
   "source": [
    "display(Markdown(\"## Clue 2\"))\n",
    "display(Markdown(deposition[\"description\"].values[0]))"
   ]
  },
  {
   "cell_type": "code",
   "execution_count": 6,
   "id": "b8374b69",
   "metadata": {
    "execution": {
     "iopub.execute_input": "2023-03-17T14:56:51.723374Z",
     "iopub.status.busy": "2023-03-17T14:56:51.723247Z",
     "iopub.status.idle": "2023-03-17T14:56:51.725252Z",
     "shell.execute_reply": "2023-03-17T14:56:51.724980Z"
    }
   },
   "outputs": [],
   "source": [
    "def namestr(obj, namespace=locals()) -> str:\n",
    "    return [name for name in namespace if namespace[name] is obj][0]"
   ]
  },
  {
   "cell_type": "code",
   "execution_count": 7,
   "id": "2da58d9d",
   "metadata": {
    "execution": {
     "iopub.execute_input": "2023-03-17T14:56:51.726402Z",
     "iopub.status.busy": "2023-03-17T14:56:51.726299Z",
     "iopub.status.idle": "2023-03-17T14:56:51.727965Z",
     "shell.execute_reply": "2023-03-17T14:56:51.727720Z"
    }
   },
   "outputs": [],
   "source": [
    "def print_table_names():\n",
    "    print([namestr(d) for d in db])"
   ]
  },
  {
   "cell_type": "code",
   "execution_count": 8,
   "id": "edb2ac1a",
   "metadata": {
    "execution": {
     "iopub.execute_input": "2023-03-17T14:56:51.729131Z",
     "iopub.status.busy": "2023-03-17T14:56:51.729051Z",
     "iopub.status.idle": "2023-03-17T14:56:51.746266Z",
     "shell.execute_reply": "2023-03-17T14:56:51.745966Z"
    }
   },
   "outputs": [
    {
     "name": "stdout",
     "output_type": "stream",
     "text": [
      "drivers_license\n"
     ]
    },
    {
     "data": {
      "text/html": [
       "<div>\n",
       "<style scoped>\n",
       "    .dataframe tbody tr th:only-of-type {\n",
       "        vertical-align: middle;\n",
       "    }\n",
       "\n",
       "    .dataframe tbody tr th {\n",
       "        vertical-align: top;\n",
       "    }\n",
       "\n",
       "    .dataframe thead th {\n",
       "        text-align: right;\n",
       "    }\n",
       "</style>\n",
       "<table border=\"1\" class=\"dataframe\">\n",
       "  <thead>\n",
       "    <tr style=\"text-align: right;\">\n",
       "      <th></th>\n",
       "      <th>id</th>\n",
       "      <th>age</th>\n",
       "      <th>height</th>\n",
       "      <th>eye_color</th>\n",
       "      <th>hair_color</th>\n",
       "      <th>gender</th>\n",
       "      <th>plate_number</th>\n",
       "      <th>car_make</th>\n",
       "      <th>car_model</th>\n",
       "    </tr>\n",
       "  </thead>\n",
       "  <tbody>\n",
       "    <tr>\n",
       "      <th>5877</th>\n",
       "      <td>631082</td>\n",
       "      <td>84</td>\n",
       "      <td>60</td>\n",
       "      <td>brown</td>\n",
       "      <td>brown</td>\n",
       "      <td>female</td>\n",
       "      <td>WQRO0F</td>\n",
       "      <td>GMC</td>\n",
       "      <td>1500</td>\n",
       "    </tr>\n",
       "  </tbody>\n",
       "</table>\n",
       "</div>"
      ],
      "text/plain": [
       "          id  age  height eye_color hair_color  gender plate_number car_make  \\\n",
       "5877  631082   84      60     brown      brown  female       WQRO0F      GMC   \n",
       "\n",
       "     car_model  \n",
       "5877      1500  "
      ]
     },
     "metadata": {},
     "output_type": "display_data"
    },
    {
     "name": "stdout",
     "output_type": "stream",
     "text": [
      "\n",
      "income\n"
     ]
    },
    {
     "data": {
      "text/html": [
       "<div>\n",
       "<style scoped>\n",
       "    .dataframe tbody tr th:only-of-type {\n",
       "        vertical-align: middle;\n",
       "    }\n",
       "\n",
       "    .dataframe tbody tr th {\n",
       "        vertical-align: top;\n",
       "    }\n",
       "\n",
       "    .dataframe thead th {\n",
       "        text-align: right;\n",
       "    }\n",
       "</style>\n",
       "<table border=\"1\" class=\"dataframe\">\n",
       "  <thead>\n",
       "    <tr style=\"text-align: right;\">\n",
       "      <th></th>\n",
       "      <th>ssn</th>\n",
       "      <th>annual_income</th>\n",
       "    </tr>\n",
       "  </thead>\n",
       "  <tbody>\n",
       "    <tr>\n",
       "      <th>3936</th>\n",
       "      <td>575201716</td>\n",
       "      <td>43500.0</td>\n",
       "    </tr>\n",
       "  </tbody>\n",
       "</table>\n",
       "</div>"
      ],
      "text/plain": [
       "            ssn  annual_income\n",
       "3936  575201716        43500.0"
      ]
     },
     "metadata": {},
     "output_type": "display_data"
    },
    {
     "name": "stdout",
     "output_type": "stream",
     "text": [
      "\n",
      "get_fit_now_members\n"
     ]
    },
    {
     "data": {
      "text/html": [
       "<div>\n",
       "<style scoped>\n",
       "    .dataframe tbody tr th:only-of-type {\n",
       "        vertical-align: middle;\n",
       "    }\n",
       "\n",
       "    .dataframe tbody tr th {\n",
       "        vertical-align: top;\n",
       "    }\n",
       "\n",
       "    .dataframe thead th {\n",
       "        text-align: right;\n",
       "    }\n",
       "</style>\n",
       "<table border=\"1\" class=\"dataframe\">\n",
       "  <thead>\n",
       "    <tr style=\"text-align: right;\">\n",
       "      <th></th>\n",
       "      <th>id</th>\n",
       "      <th>person_id</th>\n",
       "      <th>name</th>\n",
       "      <th>membership_start_date</th>\n",
       "      <th>membership_status</th>\n",
       "    </tr>\n",
       "  </thead>\n",
       "  <tbody>\n",
       "    <tr>\n",
       "      <th>27</th>\n",
       "      <td>0862D</td>\n",
       "      <td>62171</td>\n",
       "      <td>Johana Dayer</td>\n",
       "      <td>20170612</td>\n",
       "      <td>gold</td>\n",
       "    </tr>\n",
       "  </tbody>\n",
       "</table>\n",
       "</div>"
      ],
      "text/plain": [
       "       id  person_id          name  membership_start_date membership_status\n",
       "27  0862D      62171  Johana Dayer               20170612              gold"
      ]
     },
     "metadata": {},
     "output_type": "display_data"
    },
    {
     "name": "stdout",
     "output_type": "stream",
     "text": [
      "\n",
      "interview\n"
     ]
    },
    {
     "data": {
      "text/html": [
       "<div>\n",
       "<style scoped>\n",
       "    .dataframe tbody tr th:only-of-type {\n",
       "        vertical-align: middle;\n",
       "    }\n",
       "\n",
       "    .dataframe tbody tr th {\n",
       "        vertical-align: top;\n",
       "    }\n",
       "\n",
       "    .dataframe thead th {\n",
       "        text-align: right;\n",
       "    }\n",
       "</style>\n",
       "<table border=\"1\" class=\"dataframe\">\n",
       "  <thead>\n",
       "    <tr style=\"text-align: right;\">\n",
       "      <th></th>\n",
       "      <th>person_id</th>\n",
       "      <th>transcript</th>\n",
       "    </tr>\n",
       "  </thead>\n",
       "  <tbody>\n",
       "    <tr>\n",
       "      <th>3418</th>\n",
       "      <td>84796</td>\n",
       "      <td>get” is the same thing as “I get what I like”!’\\n</td>\n",
       "    </tr>\n",
       "  </tbody>\n",
       "</table>\n",
       "</div>"
      ],
      "text/plain": [
       "      person_id                                         transcript\n",
       "3418      84796  get” is the same thing as “I get what I like”!’\\n"
      ]
     },
     "metadata": {},
     "output_type": "display_data"
    },
    {
     "name": "stdout",
     "output_type": "stream",
     "text": [
      "\n",
      "person\n"
     ]
    },
    {
     "data": {
      "text/html": [
       "<div>\n",
       "<style scoped>\n",
       "    .dataframe tbody tr th:only-of-type {\n",
       "        vertical-align: middle;\n",
       "    }\n",
       "\n",
       "    .dataframe tbody tr th {\n",
       "        vertical-align: top;\n",
       "    }\n",
       "\n",
       "    .dataframe thead th {\n",
       "        text-align: right;\n",
       "    }\n",
       "</style>\n",
       "<table border=\"1\" class=\"dataframe\">\n",
       "  <thead>\n",
       "    <tr style=\"text-align: right;\">\n",
       "      <th></th>\n",
       "      <th>id</th>\n",
       "      <th>name</th>\n",
       "      <th>license_id</th>\n",
       "      <th>address_number</th>\n",
       "      <th>address_street_name</th>\n",
       "      <th>ssn</th>\n",
       "    </tr>\n",
       "  </thead>\n",
       "  <tbody>\n",
       "    <tr>\n",
       "      <th>4587</th>\n",
       "      <td>51036</td>\n",
       "      <td>Sammie Mcmanaway</td>\n",
       "      <td>495858</td>\n",
       "      <td>2221</td>\n",
       "      <td>S Lituanica Rd</td>\n",
       "      <td>692703131</td>\n",
       "    </tr>\n",
       "  </tbody>\n",
       "</table>\n",
       "</div>"
      ],
      "text/plain": [
       "         id              name  license_id  address_number address_street_name  \\\n",
       "4587  51036  Sammie Mcmanaway      495858            2221      S Lituanica Rd   \n",
       "\n",
       "            ssn  \n",
       "4587  692703131  "
      ]
     },
     "metadata": {},
     "output_type": "display_data"
    },
    {
     "name": "stdout",
     "output_type": "stream",
     "text": [
      "\n",
      "facebook_event_check_in\n"
     ]
    },
    {
     "data": {
      "text/html": [
       "<div>\n",
       "<style scoped>\n",
       "    .dataframe tbody tr th:only-of-type {\n",
       "        vertical-align: middle;\n",
       "    }\n",
       "\n",
       "    .dataframe tbody tr th {\n",
       "        vertical-align: top;\n",
       "    }\n",
       "\n",
       "    .dataframe thead th {\n",
       "        text-align: right;\n",
       "    }\n",
       "</style>\n",
       "<table border=\"1\" class=\"dataframe\">\n",
       "  <thead>\n",
       "    <tr style=\"text-align: right;\">\n",
       "      <th></th>\n",
       "      <th>person_id</th>\n",
       "      <th>event_id</th>\n",
       "      <th>event_name</th>\n",
       "      <th>date</th>\n",
       "    </tr>\n",
       "  </thead>\n",
       "  <tbody>\n",
       "    <tr>\n",
       "      <th>1821</th>\n",
       "      <td>79663</td>\n",
       "      <td>9103</td>\n",
       "      <td>The secret to success is sincerity. Once you l...</td>\n",
       "      <td>20170113</td>\n",
       "    </tr>\n",
       "  </tbody>\n",
       "</table>\n",
       "</div>"
      ],
      "text/plain": [
       "      person_id  event_id                                         event_name  \\\n",
       "1821      79663      9103  The secret to success is sincerity. Once you l...   \n",
       "\n",
       "          date  \n",
       "1821  20170113  "
      ]
     },
     "metadata": {},
     "output_type": "display_data"
    },
    {
     "name": "stdout",
     "output_type": "stream",
     "text": [
      "\n",
      "get_fit_now_check_in\n"
     ]
    },
    {
     "data": {
      "text/html": [
       "<div>\n",
       "<style scoped>\n",
       "    .dataframe tbody tr th:only-of-type {\n",
       "        vertical-align: middle;\n",
       "    }\n",
       "\n",
       "    .dataframe tbody tr th {\n",
       "        vertical-align: top;\n",
       "    }\n",
       "\n",
       "    .dataframe thead th {\n",
       "        text-align: right;\n",
       "    }\n",
       "</style>\n",
       "<table border=\"1\" class=\"dataframe\">\n",
       "  <thead>\n",
       "    <tr style=\"text-align: right;\">\n",
       "      <th></th>\n",
       "      <th>membership_id</th>\n",
       "      <th>check_in_date</th>\n",
       "      <th>check_in_time</th>\n",
       "      <th>check_out_time</th>\n",
       "    </tr>\n",
       "  </thead>\n",
       "  <tbody>\n",
       "    <tr>\n",
       "      <th>2571</th>\n",
       "      <td>CGQ1A</td>\n",
       "      <td>20180309</td>\n",
       "      <td>1129</td>\n",
       "      <td>1156</td>\n",
       "    </tr>\n",
       "  </tbody>\n",
       "</table>\n",
       "</div>"
      ],
      "text/plain": [
       "     membership_id  check_in_date  check_in_time  check_out_time\n",
       "2571         CGQ1A       20180309           1129            1156"
      ]
     },
     "metadata": {},
     "output_type": "display_data"
    },
    {
     "name": "stdout",
     "output_type": "stream",
     "text": [
      "\n",
      "crime_scene_report\n"
     ]
    },
    {
     "data": {
      "text/html": [
       "<div>\n",
       "<style scoped>\n",
       "    .dataframe tbody tr th:only-of-type {\n",
       "        vertical-align: middle;\n",
       "    }\n",
       "\n",
       "    .dataframe tbody tr th {\n",
       "        vertical-align: top;\n",
       "    }\n",
       "\n",
       "    .dataframe thead th {\n",
       "        text-align: right;\n",
       "    }\n",
       "</style>\n",
       "<table border=\"1\" class=\"dataframe\">\n",
       "  <thead>\n",
       "    <tr style=\"text-align: right;\">\n",
       "      <th></th>\n",
       "      <th>date</th>\n",
       "      <th>type</th>\n",
       "      <th>description</th>\n",
       "      <th>city</th>\n",
       "    </tr>\n",
       "  </thead>\n",
       "  <tbody>\n",
       "    <tr>\n",
       "      <th>1100</th>\n",
       "      <td>20180313</td>\n",
       "      <td>blackmail</td>\n",
       "      <td>An enormous puppy was looking down at her with...</td>\n",
       "      <td>Greensboro</td>\n",
       "    </tr>\n",
       "  </tbody>\n",
       "</table>\n",
       "</div>"
      ],
      "text/plain": [
       "          date       type                                        description  \\\n",
       "1100  20180313  blackmail  An enormous puppy was looking down at her with...   \n",
       "\n",
       "            city  \n",
       "1100  Greensboro  "
      ]
     },
     "metadata": {},
     "output_type": "display_data"
    },
    {
     "name": "stdout",
     "output_type": "stream",
     "text": [
      "\n"
     ]
    }
   ],
   "source": [
    "for d in db:\n",
    "    print(namestr(d))\n",
    "    display(d.sample())\n",
    "    print()"
   ]
  },
  {
   "cell_type": "code",
   "execution_count": 9,
   "id": "4ee512a2",
   "metadata": {
    "execution": {
     "iopub.execute_input": "2023-03-17T14:56:51.747437Z",
     "iopub.status.busy": "2023-03-17T14:56:51.747359Z",
     "iopub.status.idle": "2023-03-17T14:56:51.751330Z",
     "shell.execute_reply": "2023-03-17T14:56:51.751097Z"
    }
   },
   "outputs": [
    {
     "data": {
      "text/html": [
       "<div>\n",
       "<style scoped>\n",
       "    .dataframe tbody tr th:only-of-type {\n",
       "        vertical-align: middle;\n",
       "    }\n",
       "\n",
       "    .dataframe tbody tr th {\n",
       "        vertical-align: top;\n",
       "    }\n",
       "\n",
       "    .dataframe thead th {\n",
       "        text-align: right;\n",
       "    }\n",
       "</style>\n",
       "<table border=\"1\" class=\"dataframe\">\n",
       "  <thead>\n",
       "    <tr style=\"text-align: right;\">\n",
       "      <th></th>\n",
       "      <th>id</th>\n",
       "      <th>name</th>\n",
       "      <th>license_id</th>\n",
       "      <th>address_number</th>\n",
       "      <th>address_street_name</th>\n",
       "      <th>ssn</th>\n",
       "    </tr>\n",
       "  </thead>\n",
       "  <tbody>\n",
       "    <tr>\n",
       "      <th>499</th>\n",
       "      <td>14887</td>\n",
       "      <td>Morty Schapiro</td>\n",
       "      <td>118009</td>\n",
       "      <td>4919</td>\n",
       "      <td>Northwestern Dr</td>\n",
       "      <td>111564949</td>\n",
       "    </tr>\n",
       "  </tbody>\n",
       "</table>\n",
       "</div>"
      ],
      "text/plain": [
       "        id            name  license_id  address_number address_street_name  \\\n",
       "499  14887  Morty Schapiro      118009            4919     Northwestern Dr   \n",
       "\n",
       "           ssn  \n",
       "499  111564949  "
      ]
     },
     "metadata": {},
     "output_type": "display_data"
    }
   ],
   "source": [
    "witness_1 = person.loc[person[\"address_street_name\"] == \"Northwestern Dr\"].loc[\n",
    "    lambda df: df[\"address_number\"] == df[\"address_number\"].max()\n",
    "]\n",
    "display(witness_1)"
   ]
  },
  {
   "cell_type": "code",
   "execution_count": 10,
   "id": "2e17f343",
   "metadata": {
    "execution": {
     "iopub.execute_input": "2023-03-17T14:56:51.752552Z",
     "iopub.status.busy": "2023-03-17T14:56:51.752470Z",
     "iopub.status.idle": "2023-03-17T14:56:51.757980Z",
     "shell.execute_reply": "2023-03-17T14:56:51.757736Z"
    }
   },
   "outputs": [
    {
     "data": {
      "text/html": [
       "<div>\n",
       "<style scoped>\n",
       "    .dataframe tbody tr th:only-of-type {\n",
       "        vertical-align: middle;\n",
       "    }\n",
       "\n",
       "    .dataframe tbody tr th {\n",
       "        vertical-align: top;\n",
       "    }\n",
       "\n",
       "    .dataframe thead th {\n",
       "        text-align: right;\n",
       "    }\n",
       "</style>\n",
       "<table border=\"1\" class=\"dataframe\">\n",
       "  <thead>\n",
       "    <tr style=\"text-align: right;\">\n",
       "      <th></th>\n",
       "      <th>id</th>\n",
       "      <th>name</th>\n",
       "      <th>license_id</th>\n",
       "      <th>address_number</th>\n",
       "      <th>address_street_name</th>\n",
       "      <th>ssn</th>\n",
       "    </tr>\n",
       "  </thead>\n",
       "  <tbody>\n",
       "    <tr>\n",
       "      <th>665</th>\n",
       "      <td>16371</td>\n",
       "      <td>Annabel Miller</td>\n",
       "      <td>490173</td>\n",
       "      <td>103</td>\n",
       "      <td>Franklin Ave</td>\n",
       "      <td>318771143</td>\n",
       "    </tr>\n",
       "  </tbody>\n",
       "</table>\n",
       "</div>"
      ],
      "text/plain": [
       "        id            name  license_id  address_number address_street_name  \\\n",
       "665  16371  Annabel Miller      490173             103        Franklin Ave   \n",
       "\n",
       "           ssn  \n",
       "665  318771143  "
      ]
     },
     "metadata": {},
     "output_type": "display_data"
    }
   ],
   "source": [
    "witness_2 = person.loc[\n",
    "    (person[\"name\"].str.contains(\"Annabel\"))\n",
    "    & (person[\"address_street_name\"] == \"Franklin Ave\")\n",
    "]\n",
    "display(witness_2)"
   ]
  },
  {
   "cell_type": "code",
   "execution_count": 11,
   "id": "9613c04c",
   "metadata": {
    "execution": {
     "iopub.execute_input": "2023-03-17T14:56:51.759107Z",
     "iopub.status.busy": "2023-03-17T14:56:51.759022Z",
     "iopub.status.idle": "2023-03-17T14:56:51.761123Z",
     "shell.execute_reply": "2023-03-17T14:56:51.760880Z"
    }
   },
   "outputs": [],
   "source": [
    "witnesses = pd.concat([witness_1, witness_2])"
   ]
  },
  {
   "cell_type": "code",
   "execution_count": 12,
   "id": "f34fe269",
   "metadata": {
    "execution": {
     "iopub.execute_input": "2023-03-17T14:56:51.762187Z",
     "iopub.status.busy": "2023-03-17T14:56:51.762108Z",
     "iopub.status.idle": "2023-03-17T14:56:51.764805Z",
     "shell.execute_reply": "2023-03-17T14:56:51.764569Z"
    }
   },
   "outputs": [],
   "source": [
    "clue_3 = interview.loc[interview[\"person_id\"].isin(witnesses[\"id\"])].merge(\n",
    "    witnesses, left_on=\"person_id\", right_on=\"id\"\n",
    ")"
   ]
  },
  {
   "cell_type": "code",
   "execution_count": 13,
   "id": "07b9f3e8",
   "metadata": {
    "execution": {
     "iopub.execute_input": "2023-03-17T14:56:51.765903Z",
     "iopub.status.busy": "2023-03-17T14:56:51.765819Z",
     "iopub.status.idle": "2023-03-17T14:56:51.769015Z",
     "shell.execute_reply": "2023-03-17T14:56:51.768808Z"
    }
   },
   "outputs": [
    {
     "data": {
      "text/markdown": [
       "## Clue 3"
      ],
      "text/plain": [
       "<IPython.core.display.Markdown object>"
      ]
     },
     "metadata": {},
     "output_type": "display_data"
    },
    {
     "data": {
      "text/markdown": [
       "I heard a gunshot and then saw a man run out. He had a \"Get Fit Now Gym\" bag. The membership number on the bag started with \"48Z\". Only gold members have those bags. The man got into a car with a plate that included \"H42W\"."
      ],
      "text/plain": [
       "<IPython.core.display.Markdown object>"
      ]
     },
     "metadata": {},
     "output_type": "display_data"
    },
    {
     "name": "stdout",
     "output_type": "stream",
     "text": [
      "\n"
     ]
    },
    {
     "data": {
      "text/markdown": [
       "I saw the murder happen, and I recognized the killer from my gym when I was working out last week on January the 9th."
      ],
      "text/plain": [
       "<IPython.core.display.Markdown object>"
      ]
     },
     "metadata": {},
     "output_type": "display_data"
    },
    {
     "name": "stdout",
     "output_type": "stream",
     "text": [
      "\n"
     ]
    }
   ],
   "source": [
    "display(Markdown(\"## Clue 3\"))\n",
    "for t in clue_3[\"transcript\"]:\n",
    "    display(Markdown(t))\n",
    "    print()"
   ]
  },
  {
   "cell_type": "code",
   "execution_count": 14,
   "id": "5991152c",
   "metadata": {
    "execution": {
     "iopub.execute_input": "2023-03-17T14:56:51.770163Z",
     "iopub.status.busy": "2023-03-17T14:56:51.770056Z",
     "iopub.status.idle": "2023-03-17T14:56:51.778741Z",
     "shell.execute_reply": "2023-03-17T14:56:51.778454Z"
    }
   },
   "outputs": [],
   "source": [
    "suspect = (\n",
    "    get_fit_now_members.loc[\n",
    "        (get_fit_now_members[\"membership_status\"] == \"gold\")\n",
    "        & (get_fit_now_members[\"id\"].str[:3] == \"48Z\")\n",
    "    ]\n",
    "    .merge(person, left_on=\"person_id\", right_on=\"id\", suffixes=[\"_gym\", \"_person\"])\n",
    "    .merge(\n",
    "        drivers_license.loc[drivers_license[\"plate_number\"].str.contains(\"H42W\")],\n",
    "        left_on=\"license_id\",\n",
    "        right_on=\"id\",\n",
    "        suffixes=[\"_person\", \"_driver\"],\n",
    "    )\n",
    ").merge(\n",
    "    get_fit_now_check_in.assign(\n",
    "        check_in_date=pd.to_datetime(\n",
    "            get_fit_now_check_in[\"check_in_date\"], format=\"%Y%m%d\"\n",
    "        ),\n",
    "    )\n",
    "    .set_index(\"check_in_date\")\n",
    "    .loc[\"1/9/2018\"],\n",
    "    left_on=\"id_gym\",\n",
    "    right_on=\"membership_id\",\n",
    ")"
   ]
  },
  {
   "cell_type": "code",
   "execution_count": 15,
   "id": "93cdc128",
   "metadata": {
    "execution": {
     "iopub.execute_input": "2023-03-17T14:56:51.779994Z",
     "iopub.status.busy": "2023-03-17T14:56:51.779911Z",
     "iopub.status.idle": "2023-03-17T14:56:51.783303Z",
     "shell.execute_reply": "2023-03-17T14:56:51.783068Z"
    }
   },
   "outputs": [
    {
     "data": {
      "text/html": [
       "<div>\n",
       "<style scoped>\n",
       "    .dataframe tbody tr th:only-of-type {\n",
       "        vertical-align: middle;\n",
       "    }\n",
       "\n",
       "    .dataframe tbody tr th {\n",
       "        vertical-align: top;\n",
       "    }\n",
       "\n",
       "    .dataframe thead th {\n",
       "        text-align: right;\n",
       "    }\n",
       "</style>\n",
       "<table border=\"1\" class=\"dataframe\">\n",
       "  <thead>\n",
       "    <tr style=\"text-align: right;\">\n",
       "      <th></th>\n",
       "      <th>0</th>\n",
       "    </tr>\n",
       "  </thead>\n",
       "  <tbody>\n",
       "    <tr>\n",
       "      <th>id_gym</th>\n",
       "      <td>48Z55</td>\n",
       "    </tr>\n",
       "    <tr>\n",
       "      <th>person_id</th>\n",
       "      <td>67318</td>\n",
       "    </tr>\n",
       "    <tr>\n",
       "      <th>name_gym</th>\n",
       "      <td>Jeremy Bowers</td>\n",
       "    </tr>\n",
       "    <tr>\n",
       "      <th>membership_start_date</th>\n",
       "      <td>20160101</td>\n",
       "    </tr>\n",
       "    <tr>\n",
       "      <th>membership_status</th>\n",
       "      <td>gold</td>\n",
       "    </tr>\n",
       "    <tr>\n",
       "      <th>id_person</th>\n",
       "      <td>67318</td>\n",
       "    </tr>\n",
       "    <tr>\n",
       "      <th>name_person</th>\n",
       "      <td>Jeremy Bowers</td>\n",
       "    </tr>\n",
       "    <tr>\n",
       "      <th>license_id</th>\n",
       "      <td>423327</td>\n",
       "    </tr>\n",
       "    <tr>\n",
       "      <th>address_number</th>\n",
       "      <td>530</td>\n",
       "    </tr>\n",
       "    <tr>\n",
       "      <th>address_street_name</th>\n",
       "      <td>Washington Pl, Apt 3A</td>\n",
       "    </tr>\n",
       "    <tr>\n",
       "      <th>ssn</th>\n",
       "      <td>871539279</td>\n",
       "    </tr>\n",
       "    <tr>\n",
       "      <th>id</th>\n",
       "      <td>423327</td>\n",
       "    </tr>\n",
       "    <tr>\n",
       "      <th>age</th>\n",
       "      <td>30</td>\n",
       "    </tr>\n",
       "    <tr>\n",
       "      <th>height</th>\n",
       "      <td>70</td>\n",
       "    </tr>\n",
       "    <tr>\n",
       "      <th>eye_color</th>\n",
       "      <td>brown</td>\n",
       "    </tr>\n",
       "    <tr>\n",
       "      <th>hair_color</th>\n",
       "      <td>brown</td>\n",
       "    </tr>\n",
       "    <tr>\n",
       "      <th>gender</th>\n",
       "      <td>male</td>\n",
       "    </tr>\n",
       "    <tr>\n",
       "      <th>plate_number</th>\n",
       "      <td>0H42W2</td>\n",
       "    </tr>\n",
       "    <tr>\n",
       "      <th>car_make</th>\n",
       "      <td>Chevrolet</td>\n",
       "    </tr>\n",
       "    <tr>\n",
       "      <th>car_model</th>\n",
       "      <td>Spark LS</td>\n",
       "    </tr>\n",
       "    <tr>\n",
       "      <th>membership_id</th>\n",
       "      <td>48Z55</td>\n",
       "    </tr>\n",
       "    <tr>\n",
       "      <th>check_in_time</th>\n",
       "      <td>1530</td>\n",
       "    </tr>\n",
       "    <tr>\n",
       "      <th>check_out_time</th>\n",
       "      <td>1700</td>\n",
       "    </tr>\n",
       "  </tbody>\n",
       "</table>\n",
       "</div>"
      ],
      "text/plain": [
       "                                           0\n",
       "id_gym                                 48Z55\n",
       "person_id                              67318\n",
       "name_gym                       Jeremy Bowers\n",
       "membership_start_date               20160101\n",
       "membership_status                       gold\n",
       "id_person                              67318\n",
       "name_person                    Jeremy Bowers\n",
       "license_id                            423327\n",
       "address_number                           530\n",
       "address_street_name    Washington Pl, Apt 3A\n",
       "ssn                                871539279\n",
       "id                                    423327\n",
       "age                                       30\n",
       "height                                    70\n",
       "eye_color                              brown\n",
       "hair_color                             brown\n",
       "gender                                  male\n",
       "plate_number                          0H42W2\n",
       "car_make                           Chevrolet\n",
       "car_model                           Spark LS\n",
       "membership_id                          48Z55\n",
       "check_in_time                           1530\n",
       "check_out_time                          1700"
      ]
     },
     "metadata": {},
     "output_type": "display_data"
    }
   ],
   "source": [
    "display(suspect.T)"
   ]
  },
  {
   "cell_type": "code",
   "execution_count": 16,
   "id": "9dbbd2cc",
   "metadata": {
    "execution": {
     "iopub.execute_input": "2023-03-17T14:56:51.784450Z",
     "iopub.status.busy": "2023-03-17T14:56:51.784360Z",
     "iopub.status.idle": "2023-03-17T14:56:51.787258Z",
     "shell.execute_reply": "2023-03-17T14:56:51.787014Z"
    }
   },
   "outputs": [
    {
     "data": {
      "text/markdown": [
       "## Clue 4"
      ],
      "text/plain": [
       "<IPython.core.display.Markdown object>"
      ]
     },
     "metadata": {},
     "output_type": "display_data"
    },
    {
     "data": {
      "text/markdown": [
       "I was hired by a woman with a lot of money. I don't know her name but I know she's around 5'5\" (65\") or 5'7\" (67\"). She has red hair and she drives a Tesla Model S. I know that she attended the SQL Symphony Concert 3 times in December 2017.\n"
      ],
      "text/plain": [
       "<IPython.core.display.Markdown object>"
      ]
     },
     "metadata": {},
     "output_type": "display_data"
    }
   ],
   "source": [
    "display(Markdown(\"## Clue 4\"))\n",
    "display(\n",
    "    Markdown(\n",
    "        interview.loc[interview[\"person_id\"].isin(suspect[\"person_id\"])][\n",
    "            \"transcript\"\n",
    "        ].iloc[0]\n",
    "    )\n",
    ")"
   ]
  },
  {
   "cell_type": "code",
   "execution_count": 17,
   "id": "2f873e2d",
   "metadata": {
    "execution": {
     "iopub.execute_input": "2023-03-17T14:56:51.788324Z",
     "iopub.status.busy": "2023-03-17T14:56:51.788222Z",
     "iopub.status.idle": "2023-03-17T14:56:51.797141Z",
     "shell.execute_reply": "2023-03-17T14:56:51.796899Z"
    }
   },
   "outputs": [],
   "source": [
    "mastermind_concert = (\n",
    "    drivers_license.loc[\n",
    "        (drivers_license[\"height\"].isin(range(65, 68)))\n",
    "        & (drivers_license[\"car_make\"] == \"Tesla\")\n",
    "        & (drivers_license[\"hair_color\"] == \"red\")\n",
    "        & (drivers_license[\"gender\"] == \"female\")\n",
    "    ]\n",
    "    .merge(person, left_on=\"id\", right_on=\"license_id\", suffixes=[\"_driver\", \"_person\"])\n",
    "    .merge(\n",
    "        (\n",
    "            facebook_event_check_in.assign(\n",
    "                date=pd.to_datetime(facebook_event_check_in[\"date\"], format=\"%Y%m%d\")\n",
    "            )\n",
    "            .set_index(\"date\")\n",
    "            .loc[\"12/2017\"]\n",
    "            .reset_index()\n",
    "            .query(\"event_name == 'SQL Symphony Concert'\")\n",
    "        ),\n",
    "        left_on=\"id_person\",\n",
    "        right_on=\"person_id\",\n",
    "    )\n",
    ")"
   ]
  },
  {
   "cell_type": "code",
   "execution_count": 18,
   "id": "d088127c",
   "metadata": {
    "execution": {
     "iopub.execute_input": "2023-03-17T14:56:51.798341Z",
     "iopub.status.busy": "2023-03-17T14:56:51.798253Z",
     "iopub.status.idle": "2023-03-17T14:56:51.802960Z",
     "shell.execute_reply": "2023-03-17T14:56:51.802712Z"
    }
   },
   "outputs": [
    {
     "data": {
      "text/html": [
       "<div>\n",
       "<style scoped>\n",
       "    .dataframe tbody tr th:only-of-type {\n",
       "        vertical-align: middle;\n",
       "    }\n",
       "\n",
       "    .dataframe tbody tr th {\n",
       "        vertical-align: top;\n",
       "    }\n",
       "\n",
       "    .dataframe thead th {\n",
       "        text-align: right;\n",
       "    }\n",
       "</style>\n",
       "<table border=\"1\" class=\"dataframe\">\n",
       "  <thead>\n",
       "    <tr style=\"text-align: right;\">\n",
       "      <th></th>\n",
       "      <th>id_driver</th>\n",
       "      <th>age</th>\n",
       "      <th>height</th>\n",
       "      <th>eye_color</th>\n",
       "      <th>hair_color</th>\n",
       "      <th>gender</th>\n",
       "      <th>plate_number</th>\n",
       "      <th>car_make</th>\n",
       "      <th>car_model</th>\n",
       "      <th>id_person</th>\n",
       "      <th>name</th>\n",
       "      <th>license_id</th>\n",
       "      <th>address_number</th>\n",
       "      <th>address_street_name</th>\n",
       "      <th>ssn</th>\n",
       "      <th>date</th>\n",
       "      <th>person_id</th>\n",
       "      <th>event_id</th>\n",
       "      <th>event_name</th>\n",
       "    </tr>\n",
       "  </thead>\n",
       "  <tbody>\n",
       "    <tr>\n",
       "      <th>0</th>\n",
       "      <td>202298</td>\n",
       "      <td>68</td>\n",
       "      <td>66</td>\n",
       "      <td>green</td>\n",
       "      <td>red</td>\n",
       "      <td>female</td>\n",
       "      <td>500123</td>\n",
       "      <td>Tesla</td>\n",
       "      <td>Model S</td>\n",
       "      <td>99716</td>\n",
       "      <td>Miranda Priestly</td>\n",
       "      <td>202298</td>\n",
       "      <td>1883</td>\n",
       "      <td>Golden Ave</td>\n",
       "      <td>987756388</td>\n",
       "      <td>2017-12-06</td>\n",
       "      <td>99716</td>\n",
       "      <td>1143</td>\n",
       "      <td>SQL Symphony Concert</td>\n",
       "    </tr>\n",
       "    <tr>\n",
       "      <th>1</th>\n",
       "      <td>202298</td>\n",
       "      <td>68</td>\n",
       "      <td>66</td>\n",
       "      <td>green</td>\n",
       "      <td>red</td>\n",
       "      <td>female</td>\n",
       "      <td>500123</td>\n",
       "      <td>Tesla</td>\n",
       "      <td>Model S</td>\n",
       "      <td>99716</td>\n",
       "      <td>Miranda Priestly</td>\n",
       "      <td>202298</td>\n",
       "      <td>1883</td>\n",
       "      <td>Golden Ave</td>\n",
       "      <td>987756388</td>\n",
       "      <td>2017-12-12</td>\n",
       "      <td>99716</td>\n",
       "      <td>1143</td>\n",
       "      <td>SQL Symphony Concert</td>\n",
       "    </tr>\n",
       "    <tr>\n",
       "      <th>2</th>\n",
       "      <td>202298</td>\n",
       "      <td>68</td>\n",
       "      <td>66</td>\n",
       "      <td>green</td>\n",
       "      <td>red</td>\n",
       "      <td>female</td>\n",
       "      <td>500123</td>\n",
       "      <td>Tesla</td>\n",
       "      <td>Model S</td>\n",
       "      <td>99716</td>\n",
       "      <td>Miranda Priestly</td>\n",
       "      <td>202298</td>\n",
       "      <td>1883</td>\n",
       "      <td>Golden Ave</td>\n",
       "      <td>987756388</td>\n",
       "      <td>2017-12-29</td>\n",
       "      <td>99716</td>\n",
       "      <td>1143</td>\n",
       "      <td>SQL Symphony Concert</td>\n",
       "    </tr>\n",
       "  </tbody>\n",
       "</table>\n",
       "</div>"
      ],
      "text/plain": [
       "   id_driver  age  height eye_color hair_color  gender plate_number car_make  \\\n",
       "0     202298   68      66     green        red  female       500123    Tesla   \n",
       "1     202298   68      66     green        red  female       500123    Tesla   \n",
       "2     202298   68      66     green        red  female       500123    Tesla   \n",
       "\n",
       "  car_model  id_person              name  license_id  address_number  \\\n",
       "0   Model S      99716  Miranda Priestly      202298            1883   \n",
       "1   Model S      99716  Miranda Priestly      202298            1883   \n",
       "2   Model S      99716  Miranda Priestly      202298            1883   \n",
       "\n",
       "  address_street_name        ssn       date  person_id  event_id  \\\n",
       "0          Golden Ave  987756388 2017-12-06      99716      1143   \n",
       "1          Golden Ave  987756388 2017-12-12      99716      1143   \n",
       "2          Golden Ave  987756388 2017-12-29      99716      1143   \n",
       "\n",
       "             event_name  \n",
       "0  SQL Symphony Concert  \n",
       "1  SQL Symphony Concert  \n",
       "2  SQL Symphony Concert  "
      ]
     },
     "metadata": {},
     "output_type": "display_data"
    }
   ],
   "source": [
    "display(mastermind_concert)"
   ]
  },
  {
   "cell_type": "code",
   "execution_count": 19,
   "id": "7dfcda3a",
   "metadata": {
    "execution": {
     "iopub.execute_input": "2023-03-17T14:56:51.804053Z",
     "iopub.status.busy": "2023-03-17T14:56:51.803974Z",
     "iopub.status.idle": "2023-03-17T14:56:51.806782Z",
     "shell.execute_reply": "2023-03-17T14:56:51.806534Z"
    }
   },
   "outputs": [],
   "source": [
    "mastermind = person.loc[\n",
    "    person[\"id\"].isin(mastermind_concert.drop_duplicates()[\"person_id\"])\n",
    "]"
   ]
  },
  {
   "cell_type": "code",
   "execution_count": 20,
   "id": "b29d6be8",
   "metadata": {
    "execution": {
     "iopub.execute_input": "2023-03-17T14:56:51.807915Z",
     "iopub.status.busy": "2023-03-17T14:56:51.807833Z",
     "iopub.status.idle": "2023-03-17T14:56:51.810984Z",
     "shell.execute_reply": "2023-03-17T14:56:51.810762Z"
    }
   },
   "outputs": [
    {
     "data": {
      "text/html": [
       "<div>\n",
       "<style scoped>\n",
       "    .dataframe tbody tr th:only-of-type {\n",
       "        vertical-align: middle;\n",
       "    }\n",
       "\n",
       "    .dataframe tbody tr th {\n",
       "        vertical-align: top;\n",
       "    }\n",
       "\n",
       "    .dataframe thead th {\n",
       "        text-align: right;\n",
       "    }\n",
       "</style>\n",
       "<table border=\"1\" class=\"dataframe\">\n",
       "  <thead>\n",
       "    <tr style=\"text-align: right;\">\n",
       "      <th></th>\n",
       "      <th>id</th>\n",
       "      <th>name</th>\n",
       "      <th>license_id</th>\n",
       "      <th>address_number</th>\n",
       "      <th>address_street_name</th>\n",
       "      <th>ssn</th>\n",
       "    </tr>\n",
       "  </thead>\n",
       "  <tbody>\n",
       "    <tr>\n",
       "      <th>9985</th>\n",
       "      <td>99716</td>\n",
       "      <td>Miranda Priestly</td>\n",
       "      <td>202298</td>\n",
       "      <td>1883</td>\n",
       "      <td>Golden Ave</td>\n",
       "      <td>987756388</td>\n",
       "    </tr>\n",
       "  </tbody>\n",
       "</table>\n",
       "</div>"
      ],
      "text/plain": [
       "         id              name  license_id  address_number address_street_name  \\\n",
       "9985  99716  Miranda Priestly      202298            1883          Golden Ave   \n",
       "\n",
       "            ssn  \n",
       "9985  987756388  "
      ]
     },
     "metadata": {},
     "output_type": "display_data"
    }
   ],
   "source": [
    "display(mastermind)"
   ]
  },
  {
   "cell_type": "code",
   "execution_count": 21,
   "id": "4bec0573",
   "metadata": {
    "execution": {
     "iopub.execute_input": "2023-03-17T14:56:51.812057Z",
     "iopub.status.busy": "2023-03-17T14:56:51.811974Z",
     "iopub.status.idle": "2023-03-17T14:56:51.813691Z",
     "shell.execute_reply": "2023-03-17T14:56:51.813462Z"
    }
   },
   "outputs": [
    {
     "name": "stdout",
     "output_type": "stream",
     "text": [
      "INSERT INTO solution VALUES (1, 'Miranda Priestly');SELECT value FROM solution;\n"
     ]
    }
   ],
   "source": [
    "query = f\"INSERT INTO solution VALUES (1, '{mastermind['name'].iloc[0]}');SELECT value FROM solution;\"\n",
    "print(query)"
   ]
  },
  {
   "cell_type": "code",
   "execution_count": 22,
   "id": "802b852f",
   "metadata": {
    "execution": {
     "iopub.execute_input": "2023-03-17T14:56:51.814760Z",
     "iopub.status.busy": "2023-03-17T14:56:51.814682Z",
     "iopub.status.idle": "2023-03-17T14:56:51.829357Z",
     "shell.execute_reply": "2023-03-17T14:56:51.829036Z"
    }
   },
   "outputs": [
    {
     "name": "stdout",
     "output_type": "stream",
     "text": [
      "Congrats, you found the brains behind the murder! Everyone in SQL City hails you as the greatest SQL detective of all time. Time to break out the champagne!\n"
     ]
    }
   ],
   "source": [
    "%%bash\n",
    "\n",
    "sqlite3 sql-murder-mystery.db \"INSERT INTO solution VALUES (1, 'Miranda Priestly');SELECT value FROM solution;\""
   ]
  }
 ],
 "metadata": {
  "jupytext": {
   "cell_metadata_filter": "-all",
   "main_language": "python",
   "notebook_metadata_filter": "-all"
  },
  "language_info": {
   "codemirror_mode": {
    "name": "ipython",
    "version": 3
   },
   "file_extension": ".py",
   "mimetype": "text/x-python",
   "name": "python",
   "nbconvert_exporter": "python",
   "pygments_lexer": "ipython3",
   "version": "3.10.9"
  }
 },
 "nbformat": 4,
 "nbformat_minor": 5
}
