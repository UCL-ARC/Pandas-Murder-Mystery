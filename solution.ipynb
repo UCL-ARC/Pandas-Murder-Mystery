{
 "cells": [
  {
   "cell_type": "markdown",
   "id": "6a0b5b0e",
   "metadata": {},
   "source": [
    "# SQL Murder Mystery\n",
    "\n",
    "A crime has taken place and the detective needs your help. The detective gave\n",
    "you the crime scene report, but you somehow lost it.\n",
    "\n",
    "## Clue 1\n",
    "\n",
    "You vaguely remember that the crime was a **murder** that occurred sometime on\n",
    "**Jan. 15, 2018** and that it took place in **SQL City**. Start by retrieving\n",
    "the corresponding crime scene report from the police department’s database. If\n",
    "you want to get the most out of this mystery, try to work through it only\n",
    "using your SQL environment and refrain from using a notepad."
   ]
  },
  {
   "cell_type": "code",
   "execution_count": 1,
   "id": "45cb0dcd",
   "metadata": {},
   "outputs": [],
   "source": [
    "import pandas as pd\n",
    "from IPython.display import Markdown, display"
   ]
  },
  {
   "cell_type": "code",
   "execution_count": 2,
   "id": "5fd9e4fc",
   "metadata": {},
   "outputs": [],
   "source": [
    "drivers_license = pd.read_csv(\"drivers_license.zip\")\n",
    "income = pd.read_csv(\"income.zip\")\n",
    "get_fit_now_members = pd.read_csv(\"get_fit_now_members.zip\")\n",
    "interview = pd.read_csv(\"interview.zip\")\n",
    "person = pd.read_csv(\"person.zip\")\n",
    "facebook_event_check_in = pd.read_csv(\"facebook_event_check_in.zip\")\n",
    "get_fit_now_check_in = pd.read_csv(\"get_fit_now_check_in.zip\")\n",
    "crime_scene_report = pd.read_csv(\"crime_scene_report.zip\")"
   ]
  },
  {
   "cell_type": "code",
   "execution_count": 3,
   "id": "9c12e5a0",
   "metadata": {},
   "outputs": [],
   "source": [
    "db = [\n",
    "    drivers_license,\n",
    "    income,\n",
    "    get_fit_now_members,\n",
    "    interview,\n",
    "    person,\n",
    "    facebook_event_check_in,\n",
    "    get_fit_now_check_in,\n",
    "    crime_scene_report,\n",
    "]"
   ]
  },
  {
   "cell_type": "markdown",
   "id": "12e7e020",
   "metadata": {},
   "source": [
    "![image.png](https://mystery.knightlab.com/schema.png)"
   ]
  },
  {
   "cell_type": "code",
   "execution_count": 4,
   "id": "d5b38619",
   "metadata": {},
   "outputs": [
    {
     "data": {
      "text/html": [
       "<div>\n",
       "<style scoped>\n",
       "    .dataframe tbody tr th:only-of-type {\n",
       "        vertical-align: middle;\n",
       "    }\n",
       "\n",
       "    .dataframe tbody tr th {\n",
       "        vertical-align: top;\n",
       "    }\n",
       "\n",
       "    .dataframe thead th {\n",
       "        text-align: right;\n",
       "    }\n",
       "</style>\n",
       "<table border=\"1\" class=\"dataframe\">\n",
       "  <thead>\n",
       "    <tr style=\"text-align: right;\">\n",
       "      <th></th>\n",
       "      <th>type</th>\n",
       "      <th>description</th>\n",
       "      <th>city</th>\n",
       "    </tr>\n",
       "    <tr>\n",
       "      <th>date</th>\n",
       "      <th></th>\n",
       "      <th></th>\n",
       "      <th></th>\n",
       "    </tr>\n",
       "  </thead>\n",
       "  <tbody>\n",
       "    <tr>\n",
       "      <th>2018-01-15</th>\n",
       "      <td>murder</td>\n",
       "      <td>Security footage shows that there were 2 witne...</td>\n",
       "      <td>SQL City</td>\n",
       "    </tr>\n",
       "  </tbody>\n",
       "</table>\n",
       "</div>"
      ],
      "text/plain": [
       "              type                                        description  \\\n",
       "date                                                                    \n",
       "2018-01-15  murder  Security footage shows that there were 2 witne...   \n",
       "\n",
       "                city  \n",
       "date                  \n",
       "2018-01-15  SQL City  "
      ]
     },
     "metadata": {},
     "output_type": "display_data"
    }
   ],
   "source": [
    "deposition = (\n",
    "    crime_scene_report.assign(\n",
    "        date=pd.to_datetime(crime_scene_report[\"date\"], format=\"%Y%m%d\")\n",
    "    )\n",
    "    .set_index(\"date\")\n",
    "    .loc[\"1/15/2018\"]\n",
    "    .pipe(lambda df: df.loc[(df[\"type\"] == \"murder\") & (df[\"city\"] == \"SQL City\")])\n",
    ")\n",
    "display(deposition)"
   ]
  },
  {
   "cell_type": "code",
   "execution_count": 5,
   "id": "0ef18894",
   "metadata": {},
   "outputs": [
    {
     "data": {
      "text/markdown": [
       "## Clue 2"
      ],
      "text/plain": [
       "<IPython.core.display.Markdown object>"
      ]
     },
     "metadata": {},
     "output_type": "display_data"
    },
    {
     "data": {
      "text/markdown": [
       "Security footage shows that there were 2 witnesses. The first witness lives at the last house on \"Northwestern Dr\". The second witness, named Annabel, lives somewhere on \"Franklin Ave\"."
      ],
      "text/plain": [
       "<IPython.core.display.Markdown object>"
      ]
     },
     "metadata": {},
     "output_type": "display_data"
    }
   ],
   "source": [
    "display(Markdown(\"## Clue 2\"))\n",
    "display(Markdown(deposition[\"description\"].values[0]))"
   ]
  },
  {
   "cell_type": "code",
   "execution_count": 6,
   "id": "3bd651e2",
   "metadata": {},
   "outputs": [],
   "source": [
    "def namestr(obj, namespace=locals()) -> str:\n",
    "    return [name for name in namespace if namespace[name] is obj][0]"
   ]
  },
  {
   "cell_type": "code",
   "execution_count": 7,
   "id": "0a9213a9",
   "metadata": {},
   "outputs": [],
   "source": [
    "def print_table_names():\n",
    "    print([namestr(d) for d in db])"
   ]
  },
  {
   "cell_type": "code",
   "execution_count": 8,
   "id": "6a18c5da",
   "metadata": {},
   "outputs": [
    {
     "name": "stdout",
     "output_type": "stream",
     "text": [
      "drivers_license\n"
     ]
    },
    {
     "data": {
      "text/html": [
       "<div>\n",
       "<style scoped>\n",
       "    .dataframe tbody tr th:only-of-type {\n",
       "        vertical-align: middle;\n",
       "    }\n",
       "\n",
       "    .dataframe tbody tr th {\n",
       "        vertical-align: top;\n",
       "    }\n",
       "\n",
       "    .dataframe thead th {\n",
       "        text-align: right;\n",
       "    }\n",
       "</style>\n",
       "<table border=\"1\" class=\"dataframe\">\n",
       "  <thead>\n",
       "    <tr style=\"text-align: right;\">\n",
       "      <th></th>\n",
       "      <th>id</th>\n",
       "      <th>age</th>\n",
       "      <th>height</th>\n",
       "      <th>eye_color</th>\n",
       "      <th>hair_color</th>\n",
       "      <th>gender</th>\n",
       "      <th>plate_number</th>\n",
       "      <th>car_make</th>\n",
       "      <th>car_model</th>\n",
       "    </tr>\n",
       "  </thead>\n",
       "  <tbody>\n",
       "    <tr>\n",
       "      <th>8953</th>\n",
       "      <td>906806</td>\n",
       "      <td>78</td>\n",
       "      <td>78</td>\n",
       "      <td>blue</td>\n",
       "      <td>black</td>\n",
       "      <td>female</td>\n",
       "      <td>S0AA05</td>\n",
       "      <td>Bentley</td>\n",
       "      <td>Arnage</td>\n",
       "    </tr>\n",
       "  </tbody>\n",
       "</table>\n",
       "</div>"
      ],
      "text/plain": [
       "          id  age  height eye_color hair_color  gender plate_number car_make  \\\n",
       "8953  906806   78      78      blue      black  female       S0AA05  Bentley   \n",
       "\n",
       "     car_model  \n",
       "8953    Arnage  "
      ]
     },
     "metadata": {},
     "output_type": "display_data"
    },
    {
     "name": "stdout",
     "output_type": "stream",
     "text": [
      "\n",
      "income\n"
     ]
    },
    {
     "data": {
      "text/html": [
       "<div>\n",
       "<style scoped>\n",
       "    .dataframe tbody tr th:only-of-type {\n",
       "        vertical-align: middle;\n",
       "    }\n",
       "\n",
       "    .dataframe tbody tr th {\n",
       "        vertical-align: top;\n",
       "    }\n",
       "\n",
       "    .dataframe thead th {\n",
       "        text-align: right;\n",
       "    }\n",
       "</style>\n",
       "<table border=\"1\" class=\"dataframe\">\n",
       "  <thead>\n",
       "    <tr style=\"text-align: right;\">\n",
       "      <th></th>\n",
       "      <th>ssn</th>\n",
       "      <th>annual_income</th>\n",
       "    </tr>\n",
       "  </thead>\n",
       "  <tbody>\n",
       "    <tr>\n",
       "      <th>341</th>\n",
       "      <td>139806098</td>\n",
       "      <td>32600.0</td>\n",
       "    </tr>\n",
       "  </tbody>\n",
       "</table>\n",
       "</div>"
      ],
      "text/plain": [
       "           ssn  annual_income\n",
       "341  139806098        32600.0"
      ]
     },
     "metadata": {},
     "output_type": "display_data"
    },
    {
     "name": "stdout",
     "output_type": "stream",
     "text": [
      "\n",
      "get_fit_now_members\n"
     ]
    },
    {
     "data": {
      "text/html": [
       "<div>\n",
       "<style scoped>\n",
       "    .dataframe tbody tr th:only-of-type {\n",
       "        vertical-align: middle;\n",
       "    }\n",
       "\n",
       "    .dataframe tbody tr th {\n",
       "        vertical-align: top;\n",
       "    }\n",
       "\n",
       "    .dataframe thead th {\n",
       "        text-align: right;\n",
       "    }\n",
       "</style>\n",
       "<table border=\"1\" class=\"dataframe\">\n",
       "  <thead>\n",
       "    <tr style=\"text-align: right;\">\n",
       "      <th></th>\n",
       "      <th>id</th>\n",
       "      <th>person_id</th>\n",
       "      <th>name</th>\n",
       "      <th>membership_start_date</th>\n",
       "      <th>membership_status</th>\n",
       "    </tr>\n",
       "  </thead>\n",
       "  <tbody>\n",
       "    <tr>\n",
       "      <th>183</th>\n",
       "      <td>90081</td>\n",
       "      <td>16371</td>\n",
       "      <td>Annabel Miller</td>\n",
       "      <td>20160208</td>\n",
       "      <td>gold</td>\n",
       "    </tr>\n",
       "  </tbody>\n",
       "</table>\n",
       "</div>"
      ],
      "text/plain": [
       "        id  person_id            name  membership_start_date membership_status\n",
       "183  90081      16371  Annabel Miller               20160208              gold"
      ]
     },
     "metadata": {},
     "output_type": "display_data"
    },
    {
     "name": "stdout",
     "output_type": "stream",
     "text": [
      "\n",
      "interview\n"
     ]
    },
    {
     "data": {
      "text/html": [
       "<div>\n",
       "<style scoped>\n",
       "    .dataframe tbody tr th:only-of-type {\n",
       "        vertical-align: middle;\n",
       "    }\n",
       "\n",
       "    .dataframe tbody tr th {\n",
       "        vertical-align: top;\n",
       "    }\n",
       "\n",
       "    .dataframe thead th {\n",
       "        text-align: right;\n",
       "    }\n",
       "</style>\n",
       "<table border=\"1\" class=\"dataframe\">\n",
       "  <thead>\n",
       "    <tr style=\"text-align: right;\">\n",
       "      <th></th>\n",
       "      <th>person_id</th>\n",
       "      <th>transcript</th>\n",
       "    </tr>\n",
       "  </thead>\n",
       "  <tbody>\n",
       "    <tr>\n",
       "      <th>3205</th>\n",
       "      <td>87457</td>\n",
       "      <td>As soon as the jury had a little recovered fro...</td>\n",
       "    </tr>\n",
       "  </tbody>\n",
       "</table>\n",
       "</div>"
      ],
      "text/plain": [
       "      person_id                                         transcript\n",
       "3205      87457  As soon as the jury had a little recovered fro..."
      ]
     },
     "metadata": {},
     "output_type": "display_data"
    },
    {
     "name": "stdout",
     "output_type": "stream",
     "text": [
      "\n",
      "person\n"
     ]
    },
    {
     "data": {
      "text/html": [
       "<div>\n",
       "<style scoped>\n",
       "    .dataframe tbody tr th:only-of-type {\n",
       "        vertical-align: middle;\n",
       "    }\n",
       "\n",
       "    .dataframe tbody tr th {\n",
       "        vertical-align: top;\n",
       "    }\n",
       "\n",
       "    .dataframe thead th {\n",
       "        text-align: right;\n",
       "    }\n",
       "</style>\n",
       "<table border=\"1\" class=\"dataframe\">\n",
       "  <thead>\n",
       "    <tr style=\"text-align: right;\">\n",
       "      <th></th>\n",
       "      <th>id</th>\n",
       "      <th>name</th>\n",
       "      <th>license_id</th>\n",
       "      <th>address_number</th>\n",
       "      <th>address_street_name</th>\n",
       "      <th>ssn</th>\n",
       "    </tr>\n",
       "  </thead>\n",
       "  <tbody>\n",
       "    <tr>\n",
       "      <th>5919</th>\n",
       "      <td>63232</td>\n",
       "      <td>Sana Dumaine</td>\n",
       "      <td>722267</td>\n",
       "      <td>3000</td>\n",
       "      <td>Telwong Blvd</td>\n",
       "      <td>544645967</td>\n",
       "    </tr>\n",
       "  </tbody>\n",
       "</table>\n",
       "</div>"
      ],
      "text/plain": [
       "         id          name  license_id  address_number address_street_name  \\\n",
       "5919  63232  Sana Dumaine      722267            3000        Telwong Blvd   \n",
       "\n",
       "            ssn  \n",
       "5919  544645967  "
      ]
     },
     "metadata": {},
     "output_type": "display_data"
    },
    {
     "name": "stdout",
     "output_type": "stream",
     "text": [
      "\n",
      "facebook_event_check_in\n"
     ]
    },
    {
     "data": {
      "text/html": [
       "<div>\n",
       "<style scoped>\n",
       "    .dataframe tbody tr th:only-of-type {\n",
       "        vertical-align: middle;\n",
       "    }\n",
       "\n",
       "    .dataframe tbody tr th {\n",
       "        vertical-align: top;\n",
       "    }\n",
       "\n",
       "    .dataframe thead th {\n",
       "        text-align: right;\n",
       "    }\n",
       "</style>\n",
       "<table border=\"1\" class=\"dataframe\">\n",
       "  <thead>\n",
       "    <tr style=\"text-align: right;\">\n",
       "      <th></th>\n",
       "      <th>person_id</th>\n",
       "      <th>event_id</th>\n",
       "      <th>event_name</th>\n",
       "      <th>date</th>\n",
       "    </tr>\n",
       "  </thead>\n",
       "  <tbody>\n",
       "    <tr>\n",
       "      <th>8924</th>\n",
       "      <td>62744</td>\n",
       "      <td>865</td>\n",
       "      <td>Oh, let us never, never doubt\\n</td>\n",
       "      <td>20170628</td>\n",
       "    </tr>\n",
       "  </tbody>\n",
       "</table>\n",
       "</div>"
      ],
      "text/plain": [
       "      person_id  event_id                       event_name      date\n",
       "8924      62744       865  Oh, let us never, never doubt\\n  20170628"
      ]
     },
     "metadata": {},
     "output_type": "display_data"
    },
    {
     "name": "stdout",
     "output_type": "stream",
     "text": [
      "\n",
      "get_fit_now_check_in\n"
     ]
    },
    {
     "data": {
      "text/html": [
       "<div>\n",
       "<style scoped>\n",
       "    .dataframe tbody tr th:only-of-type {\n",
       "        vertical-align: middle;\n",
       "    }\n",
       "\n",
       "    .dataframe tbody tr th {\n",
       "        vertical-align: top;\n",
       "    }\n",
       "\n",
       "    .dataframe thead th {\n",
       "        text-align: right;\n",
       "    }\n",
       "</style>\n",
       "<table border=\"1\" class=\"dataframe\">\n",
       "  <thead>\n",
       "    <tr style=\"text-align: right;\">\n",
       "      <th></th>\n",
       "      <th>membership_id</th>\n",
       "      <th>check_in_date</th>\n",
       "      <th>check_in_time</th>\n",
       "      <th>check_out_time</th>\n",
       "    </tr>\n",
       "  </thead>\n",
       "  <tbody>\n",
       "    <tr>\n",
       "      <th>2188</th>\n",
       "      <td>C581L</td>\n",
       "      <td>20180316</td>\n",
       "      <td>181</td>\n",
       "      <td>511</td>\n",
       "    </tr>\n",
       "  </tbody>\n",
       "</table>\n",
       "</div>"
      ],
      "text/plain": [
       "     membership_id  check_in_date  check_in_time  check_out_time\n",
       "2188         C581L       20180316            181             511"
      ]
     },
     "metadata": {},
     "output_type": "display_data"
    },
    {
     "name": "stdout",
     "output_type": "stream",
     "text": [
      "\n",
      "crime_scene_report\n"
     ]
    },
    {
     "data": {
      "text/html": [
       "<div>\n",
       "<style scoped>\n",
       "    .dataframe tbody tr th:only-of-type {\n",
       "        vertical-align: middle;\n",
       "    }\n",
       "\n",
       "    .dataframe tbody tr th {\n",
       "        vertical-align: top;\n",
       "    }\n",
       "\n",
       "    .dataframe thead th {\n",
       "        text-align: right;\n",
       "    }\n",
       "</style>\n",
       "<table border=\"1\" class=\"dataframe\">\n",
       "  <thead>\n",
       "    <tr style=\"text-align: right;\">\n",
       "      <th></th>\n",
       "      <th>date</th>\n",
       "      <th>type</th>\n",
       "      <th>description</th>\n",
       "      <th>city</th>\n",
       "    </tr>\n",
       "  </thead>\n",
       "  <tbody>\n",
       "    <tr>\n",
       "      <th>795</th>\n",
       "      <td>20171108</td>\n",
       "      <td>blackmail</td>\n",
       "      <td>‘Give your evidence,’ said the King.\\n</td>\n",
       "      <td>Rockford</td>\n",
       "    </tr>\n",
       "  </tbody>\n",
       "</table>\n",
       "</div>"
      ],
      "text/plain": [
       "         date       type                             description      city\n",
       "795  20171108  blackmail  ‘Give your evidence,’ said the King.\\n  Rockford"
      ]
     },
     "metadata": {},
     "output_type": "display_data"
    },
    {
     "name": "stdout",
     "output_type": "stream",
     "text": [
      "\n"
     ]
    }
   ],
   "source": [
    "for d in db:\n",
    "    print(namestr(d))\n",
    "    display(d.sample())\n",
    "    print()"
   ]
  },
  {
   "cell_type": "code",
   "execution_count": 9,
   "id": "29f03678",
   "metadata": {},
   "outputs": [
    {
     "data": {
      "text/html": [
       "<div>\n",
       "<style scoped>\n",
       "    .dataframe tbody tr th:only-of-type {\n",
       "        vertical-align: middle;\n",
       "    }\n",
       "\n",
       "    .dataframe tbody tr th {\n",
       "        vertical-align: top;\n",
       "    }\n",
       "\n",
       "    .dataframe thead th {\n",
       "        text-align: right;\n",
       "    }\n",
       "</style>\n",
       "<table border=\"1\" class=\"dataframe\">\n",
       "  <thead>\n",
       "    <tr style=\"text-align: right;\">\n",
       "      <th></th>\n",
       "      <th>id</th>\n",
       "      <th>name</th>\n",
       "      <th>license_id</th>\n",
       "      <th>address_number</th>\n",
       "      <th>address_street_name</th>\n",
       "      <th>ssn</th>\n",
       "    </tr>\n",
       "  </thead>\n",
       "  <tbody>\n",
       "    <tr>\n",
       "      <th>499</th>\n",
       "      <td>14887</td>\n",
       "      <td>Morty Schapiro</td>\n",
       "      <td>118009</td>\n",
       "      <td>4919</td>\n",
       "      <td>Northwestern Dr</td>\n",
       "      <td>111564949</td>\n",
       "    </tr>\n",
       "  </tbody>\n",
       "</table>\n",
       "</div>"
      ],
      "text/plain": [
       "        id            name  license_id  address_number address_street_name  \\\n",
       "499  14887  Morty Schapiro      118009            4919     Northwestern Dr   \n",
       "\n",
       "           ssn  \n",
       "499  111564949  "
      ]
     },
     "metadata": {},
     "output_type": "display_data"
    }
   ],
   "source": [
    "witness_1 = person.loc[person[\"address_street_name\"] == \"Northwestern Dr\"].pipe(\n",
    "    lambda df: df.loc[df[\"address_number\"] == df[\"address_number\"].max()]\n",
    ")\n",
    "display(witness_1)"
   ]
  },
  {
   "cell_type": "code",
   "execution_count": 10,
   "id": "2027c0ad",
   "metadata": {},
   "outputs": [
    {
     "data": {
      "text/html": [
       "<div>\n",
       "<style scoped>\n",
       "    .dataframe tbody tr th:only-of-type {\n",
       "        vertical-align: middle;\n",
       "    }\n",
       "\n",
       "    .dataframe tbody tr th {\n",
       "        vertical-align: top;\n",
       "    }\n",
       "\n",
       "    .dataframe thead th {\n",
       "        text-align: right;\n",
       "    }\n",
       "</style>\n",
       "<table border=\"1\" class=\"dataframe\">\n",
       "  <thead>\n",
       "    <tr style=\"text-align: right;\">\n",
       "      <th></th>\n",
       "      <th>id</th>\n",
       "      <th>name</th>\n",
       "      <th>license_id</th>\n",
       "      <th>address_number</th>\n",
       "      <th>address_street_name</th>\n",
       "      <th>ssn</th>\n",
       "    </tr>\n",
       "  </thead>\n",
       "  <tbody>\n",
       "    <tr>\n",
       "      <th>665</th>\n",
       "      <td>16371</td>\n",
       "      <td>Annabel Miller</td>\n",
       "      <td>490173</td>\n",
       "      <td>103</td>\n",
       "      <td>Franklin Ave</td>\n",
       "      <td>318771143</td>\n",
       "    </tr>\n",
       "  </tbody>\n",
       "</table>\n",
       "</div>"
      ],
      "text/plain": [
       "        id            name  license_id  address_number address_street_name  \\\n",
       "665  16371  Annabel Miller      490173             103        Franklin Ave   \n",
       "\n",
       "           ssn  \n",
       "665  318771143  "
      ]
     },
     "metadata": {},
     "output_type": "display_data"
    }
   ],
   "source": [
    "witness_2 = person.loc[\n",
    "    (person[\"name\"].str.contains(\"Annabel\"))\n",
    "    & (person[\"address_street_name\"] == \"Franklin Ave\")\n",
    "]\n",
    "display(witness_2)"
   ]
  },
  {
   "cell_type": "code",
   "execution_count": 11,
   "id": "3320f20d",
   "metadata": {},
   "outputs": [],
   "source": [
    "witnesses = pd.concat([witness_1, witness_2])"
   ]
  },
  {
   "cell_type": "code",
   "execution_count": 12,
   "id": "b5e1e139",
   "metadata": {},
   "outputs": [],
   "source": [
    "clue_3 = interview.loc[interview[\"person_id\"].isin(witnesses[\"id\"])].merge(\n",
    "    witnesses, left_on=\"person_id\", right_on=\"id\"\n",
    ")"
   ]
  },
  {
   "cell_type": "code",
   "execution_count": 13,
   "id": "cfdaf0fa",
   "metadata": {},
   "outputs": [
    {
     "data": {
      "text/markdown": [
       "## Clue 3"
      ],
      "text/plain": [
       "<IPython.core.display.Markdown object>"
      ]
     },
     "metadata": {},
     "output_type": "display_data"
    },
    {
     "data": {
      "text/markdown": [
       "I heard a gunshot and then saw a man run out. He had a \"Get Fit Now Gym\" bag. The membership number on the bag started with \"48Z\". Only gold members have those bags. The man got into a car with a plate that included \"H42W\"."
      ],
      "text/plain": [
       "<IPython.core.display.Markdown object>"
      ]
     },
     "metadata": {},
     "output_type": "display_data"
    },
    {
     "name": "stdout",
     "output_type": "stream",
     "text": [
      "\n"
     ]
    },
    {
     "data": {
      "text/markdown": [
       "I saw the murder happen, and I recognized the killer from my gym when I was working out last week on January the 9th."
      ],
      "text/plain": [
       "<IPython.core.display.Markdown object>"
      ]
     },
     "metadata": {},
     "output_type": "display_data"
    },
    {
     "name": "stdout",
     "output_type": "stream",
     "text": [
      "\n"
     ]
    }
   ],
   "source": [
    "display(Markdown(\"## Clue 3\"))\n",
    "for t in clue_3[\"transcript\"]:\n",
    "    display(Markdown(t))\n",
    "    print()"
   ]
  },
  {
   "cell_type": "code",
   "execution_count": 14,
   "id": "bb2c1878",
   "metadata": {},
   "outputs": [],
   "source": [
    "suspect = (\n",
    "    get_fit_now_members.loc[\n",
    "        (get_fit_now_members[\"membership_status\"] == \"gold\")\n",
    "        & (get_fit_now_members[\"id\"].str[:3] == \"48Z\")\n",
    "    ]\n",
    "    .merge(person, left_on=\"person_id\", right_on=\"id\", suffixes=[\"_gym\", \"_person\"])\n",
    "    .merge(\n",
    "        drivers_license.loc[drivers_license[\"plate_number\"].str.contains(\"H42W\")],\n",
    "        left_on=\"license_id\",\n",
    "        right_on=\"id\",\n",
    "        suffixes=[\"_person\", \"_driver\"],\n",
    "    )\n",
    ").merge(\n",
    "    get_fit_now_check_in.assign(\n",
    "        check_in_date=pd.to_datetime(\n",
    "            get_fit_now_check_in[\"check_in_date\"], format=\"%Y%m%d\"\n",
    "        ),\n",
    "    )\n",
    "    .set_index(\"check_in_date\")\n",
    "    .loc[\"1/9/2018\"],\n",
    "    left_on=\"id_gym\",\n",
    "    right_on=\"membership_id\",\n",
    ")"
   ]
  },
  {
   "cell_type": "code",
   "execution_count": 15,
   "id": "559be1af",
   "metadata": {},
   "outputs": [
    {
     "data": {
      "text/html": [
       "<div>\n",
       "<style scoped>\n",
       "    .dataframe tbody tr th:only-of-type {\n",
       "        vertical-align: middle;\n",
       "    }\n",
       "\n",
       "    .dataframe tbody tr th {\n",
       "        vertical-align: top;\n",
       "    }\n",
       "\n",
       "    .dataframe thead th {\n",
       "        text-align: right;\n",
       "    }\n",
       "</style>\n",
       "<table border=\"1\" class=\"dataframe\">\n",
       "  <thead>\n",
       "    <tr style=\"text-align: right;\">\n",
       "      <th></th>\n",
       "      <th>0</th>\n",
       "    </tr>\n",
       "  </thead>\n",
       "  <tbody>\n",
       "    <tr>\n",
       "      <th>id_gym</th>\n",
       "      <td>48Z55</td>\n",
       "    </tr>\n",
       "    <tr>\n",
       "      <th>person_id</th>\n",
       "      <td>67318</td>\n",
       "    </tr>\n",
       "    <tr>\n",
       "      <th>name_gym</th>\n",
       "      <td>Jeremy Bowers</td>\n",
       "    </tr>\n",
       "    <tr>\n",
       "      <th>membership_start_date</th>\n",
       "      <td>20160101</td>\n",
       "    </tr>\n",
       "    <tr>\n",
       "      <th>membership_status</th>\n",
       "      <td>gold</td>\n",
       "    </tr>\n",
       "    <tr>\n",
       "      <th>id_person</th>\n",
       "      <td>67318</td>\n",
       "    </tr>\n",
       "    <tr>\n",
       "      <th>name_person</th>\n",
       "      <td>Jeremy Bowers</td>\n",
       "    </tr>\n",
       "    <tr>\n",
       "      <th>license_id</th>\n",
       "      <td>423327</td>\n",
       "    </tr>\n",
       "    <tr>\n",
       "      <th>address_number</th>\n",
       "      <td>530</td>\n",
       "    </tr>\n",
       "    <tr>\n",
       "      <th>address_street_name</th>\n",
       "      <td>Washington Pl, Apt 3A</td>\n",
       "    </tr>\n",
       "    <tr>\n",
       "      <th>ssn</th>\n",
       "      <td>871539279</td>\n",
       "    </tr>\n",
       "    <tr>\n",
       "      <th>id</th>\n",
       "      <td>423327</td>\n",
       "    </tr>\n",
       "    <tr>\n",
       "      <th>age</th>\n",
       "      <td>30</td>\n",
       "    </tr>\n",
       "    <tr>\n",
       "      <th>height</th>\n",
       "      <td>70</td>\n",
       "    </tr>\n",
       "    <tr>\n",
       "      <th>eye_color</th>\n",
       "      <td>brown</td>\n",
       "    </tr>\n",
       "    <tr>\n",
       "      <th>hair_color</th>\n",
       "      <td>brown</td>\n",
       "    </tr>\n",
       "    <tr>\n",
       "      <th>gender</th>\n",
       "      <td>male</td>\n",
       "    </tr>\n",
       "    <tr>\n",
       "      <th>plate_number</th>\n",
       "      <td>0H42W2</td>\n",
       "    </tr>\n",
       "    <tr>\n",
       "      <th>car_make</th>\n",
       "      <td>Chevrolet</td>\n",
       "    </tr>\n",
       "    <tr>\n",
       "      <th>car_model</th>\n",
       "      <td>Spark LS</td>\n",
       "    </tr>\n",
       "    <tr>\n",
       "      <th>membership_id</th>\n",
       "      <td>48Z55</td>\n",
       "    </tr>\n",
       "    <tr>\n",
       "      <th>check_in_time</th>\n",
       "      <td>1530</td>\n",
       "    </tr>\n",
       "    <tr>\n",
       "      <th>check_out_time</th>\n",
       "      <td>1700</td>\n",
       "    </tr>\n",
       "  </tbody>\n",
       "</table>\n",
       "</div>"
      ],
      "text/plain": [
       "                                           0\n",
       "id_gym                                 48Z55\n",
       "person_id                              67318\n",
       "name_gym                       Jeremy Bowers\n",
       "membership_start_date               20160101\n",
       "membership_status                       gold\n",
       "id_person                              67318\n",
       "name_person                    Jeremy Bowers\n",
       "license_id                            423327\n",
       "address_number                           530\n",
       "address_street_name    Washington Pl, Apt 3A\n",
       "ssn                                871539279\n",
       "id                                    423327\n",
       "age                                       30\n",
       "height                                    70\n",
       "eye_color                              brown\n",
       "hair_color                             brown\n",
       "gender                                  male\n",
       "plate_number                          0H42W2\n",
       "car_make                           Chevrolet\n",
       "car_model                           Spark LS\n",
       "membership_id                          48Z55\n",
       "check_in_time                           1530\n",
       "check_out_time                          1700"
      ]
     },
     "metadata": {},
     "output_type": "display_data"
    }
   ],
   "source": [
    "display(suspect.T)"
   ]
  },
  {
   "cell_type": "code",
   "execution_count": 16,
   "id": "4827ce89",
   "metadata": {},
   "outputs": [
    {
     "data": {
      "text/markdown": [
       "## Clue 4"
      ],
      "text/plain": [
       "<IPython.core.display.Markdown object>"
      ]
     },
     "metadata": {},
     "output_type": "display_data"
    },
    {
     "data": {
      "text/markdown": [
       "I was hired by a woman with a lot of money. I don't know her name but I know she's around 5'5\" (65\") or 5'7\" (67\"). She has red hair and she drives a Tesla Model S. I know that she attended the SQL Symphony Concert 3 times in December 2017.\n"
      ],
      "text/plain": [
       "<IPython.core.display.Markdown object>"
      ]
     },
     "metadata": {},
     "output_type": "display_data"
    }
   ],
   "source": [
    "display(Markdown(\"## Clue 4\"))\n",
    "display(\n",
    "    Markdown(\n",
    "        interview.loc[interview[\"person_id\"].isin(suspect[\"person_id\"])][\n",
    "            \"transcript\"\n",
    "        ].iloc[0]\n",
    "    )\n",
    ")"
   ]
  },
  {
   "cell_type": "code",
   "execution_count": 17,
   "id": "577e582d",
   "metadata": {},
   "outputs": [],
   "source": [
    "mastermind_concert = (\n",
    "    drivers_license.loc[\n",
    "        (drivers_license[\"height\"].isin(range(65, 68)))\n",
    "        & (drivers_license[\"car_make\"] == \"Tesla\")\n",
    "        & (drivers_license[\"hair_color\"] == \"red\")\n",
    "        & (drivers_license[\"gender\"] == \"female\")\n",
    "    ]\n",
    "    .merge(person, left_on=\"id\", right_on=\"license_id\", suffixes=[\"_driver\", \"_person\"])\n",
    "    .merge(\n",
    "        facebook_event_check_in.assign(\n",
    "            date=pd.to_datetime(facebook_event_check_in[\"date\"], format=\"%Y%m%d\")\n",
    "        )\n",
    "        .set_index(\"date\")\n",
    "        .loc[\"12/2017\"]\n",
    "        .reset_index()\n",
    "        .pipe(lambda df: df.loc[(df[\"event_name\"] == \"SQL Symphony Concert\")]),\n",
    "        left_on=\"id_person\",\n",
    "        right_on=\"person_id\",\n",
    "    )\n",
    ")"
   ]
  },
  {
   "cell_type": "code",
   "execution_count": 18,
   "id": "5d58068d",
   "metadata": {},
   "outputs": [
    {
     "data": {
      "text/html": [
       "<div>\n",
       "<style scoped>\n",
       "    .dataframe tbody tr th:only-of-type {\n",
       "        vertical-align: middle;\n",
       "    }\n",
       "\n",
       "    .dataframe tbody tr th {\n",
       "        vertical-align: top;\n",
       "    }\n",
       "\n",
       "    .dataframe thead th {\n",
       "        text-align: right;\n",
       "    }\n",
       "</style>\n",
       "<table border=\"1\" class=\"dataframe\">\n",
       "  <thead>\n",
       "    <tr style=\"text-align: right;\">\n",
       "      <th></th>\n",
       "      <th>id_driver</th>\n",
       "      <th>age</th>\n",
       "      <th>height</th>\n",
       "      <th>eye_color</th>\n",
       "      <th>hair_color</th>\n",
       "      <th>gender</th>\n",
       "      <th>plate_number</th>\n",
       "      <th>car_make</th>\n",
       "      <th>car_model</th>\n",
       "      <th>id_person</th>\n",
       "      <th>name</th>\n",
       "      <th>license_id</th>\n",
       "      <th>address_number</th>\n",
       "      <th>address_street_name</th>\n",
       "      <th>ssn</th>\n",
       "      <th>date</th>\n",
       "      <th>person_id</th>\n",
       "      <th>event_id</th>\n",
       "      <th>event_name</th>\n",
       "    </tr>\n",
       "  </thead>\n",
       "  <tbody>\n",
       "    <tr>\n",
       "      <th>0</th>\n",
       "      <td>202298</td>\n",
       "      <td>68</td>\n",
       "      <td>66</td>\n",
       "      <td>green</td>\n",
       "      <td>red</td>\n",
       "      <td>female</td>\n",
       "      <td>500123</td>\n",
       "      <td>Tesla</td>\n",
       "      <td>Model S</td>\n",
       "      <td>99716</td>\n",
       "      <td>Miranda Priestly</td>\n",
       "      <td>202298</td>\n",
       "      <td>1883</td>\n",
       "      <td>Golden Ave</td>\n",
       "      <td>987756388</td>\n",
       "      <td>2017-12-06</td>\n",
       "      <td>99716</td>\n",
       "      <td>1143</td>\n",
       "      <td>SQL Symphony Concert</td>\n",
       "    </tr>\n",
       "    <tr>\n",
       "      <th>1</th>\n",
       "      <td>202298</td>\n",
       "      <td>68</td>\n",
       "      <td>66</td>\n",
       "      <td>green</td>\n",
       "      <td>red</td>\n",
       "      <td>female</td>\n",
       "      <td>500123</td>\n",
       "      <td>Tesla</td>\n",
       "      <td>Model S</td>\n",
       "      <td>99716</td>\n",
       "      <td>Miranda Priestly</td>\n",
       "      <td>202298</td>\n",
       "      <td>1883</td>\n",
       "      <td>Golden Ave</td>\n",
       "      <td>987756388</td>\n",
       "      <td>2017-12-12</td>\n",
       "      <td>99716</td>\n",
       "      <td>1143</td>\n",
       "      <td>SQL Symphony Concert</td>\n",
       "    </tr>\n",
       "    <tr>\n",
       "      <th>2</th>\n",
       "      <td>202298</td>\n",
       "      <td>68</td>\n",
       "      <td>66</td>\n",
       "      <td>green</td>\n",
       "      <td>red</td>\n",
       "      <td>female</td>\n",
       "      <td>500123</td>\n",
       "      <td>Tesla</td>\n",
       "      <td>Model S</td>\n",
       "      <td>99716</td>\n",
       "      <td>Miranda Priestly</td>\n",
       "      <td>202298</td>\n",
       "      <td>1883</td>\n",
       "      <td>Golden Ave</td>\n",
       "      <td>987756388</td>\n",
       "      <td>2017-12-29</td>\n",
       "      <td>99716</td>\n",
       "      <td>1143</td>\n",
       "      <td>SQL Symphony Concert</td>\n",
       "    </tr>\n",
       "  </tbody>\n",
       "</table>\n",
       "</div>"
      ],
      "text/plain": [
       "   id_driver  age  height eye_color hair_color  gender plate_number car_make  \\\n",
       "0     202298   68      66     green        red  female       500123    Tesla   \n",
       "1     202298   68      66     green        red  female       500123    Tesla   \n",
       "2     202298   68      66     green        red  female       500123    Tesla   \n",
       "\n",
       "  car_model  id_person              name  license_id  address_number  \\\n",
       "0   Model S      99716  Miranda Priestly      202298            1883   \n",
       "1   Model S      99716  Miranda Priestly      202298            1883   \n",
       "2   Model S      99716  Miranda Priestly      202298            1883   \n",
       "\n",
       "  address_street_name        ssn       date  person_id  event_id  \\\n",
       "0          Golden Ave  987756388 2017-12-06      99716      1143   \n",
       "1          Golden Ave  987756388 2017-12-12      99716      1143   \n",
       "2          Golden Ave  987756388 2017-12-29      99716      1143   \n",
       "\n",
       "             event_name  \n",
       "0  SQL Symphony Concert  \n",
       "1  SQL Symphony Concert  \n",
       "2  SQL Symphony Concert  "
      ]
     },
     "metadata": {},
     "output_type": "display_data"
    }
   ],
   "source": [
    "display(mastermind_concert)"
   ]
  },
  {
   "cell_type": "code",
   "execution_count": 19,
   "id": "b0f48538",
   "metadata": {},
   "outputs": [],
   "source": [
    "mastermind = person.loc[\n",
    "    person[\"id\"].isin(mastermind_concert.drop_duplicates()[\"person_id\"])\n",
    "]"
   ]
  },
  {
   "cell_type": "code",
   "execution_count": 20,
   "id": "6fafb757",
   "metadata": {},
   "outputs": [
    {
     "data": {
      "text/html": [
       "<div>\n",
       "<style scoped>\n",
       "    .dataframe tbody tr th:only-of-type {\n",
       "        vertical-align: middle;\n",
       "    }\n",
       "\n",
       "    .dataframe tbody tr th {\n",
       "        vertical-align: top;\n",
       "    }\n",
       "\n",
       "    .dataframe thead th {\n",
       "        text-align: right;\n",
       "    }\n",
       "</style>\n",
       "<table border=\"1\" class=\"dataframe\">\n",
       "  <thead>\n",
       "    <tr style=\"text-align: right;\">\n",
       "      <th></th>\n",
       "      <th>id</th>\n",
       "      <th>name</th>\n",
       "      <th>license_id</th>\n",
       "      <th>address_number</th>\n",
       "      <th>address_street_name</th>\n",
       "      <th>ssn</th>\n",
       "    </tr>\n",
       "  </thead>\n",
       "  <tbody>\n",
       "    <tr>\n",
       "      <th>9985</th>\n",
       "      <td>99716</td>\n",
       "      <td>Miranda Priestly</td>\n",
       "      <td>202298</td>\n",
       "      <td>1883</td>\n",
       "      <td>Golden Ave</td>\n",
       "      <td>987756388</td>\n",
       "    </tr>\n",
       "  </tbody>\n",
       "</table>\n",
       "</div>"
      ],
      "text/plain": [
       "         id              name  license_id  address_number address_street_name  \\\n",
       "9985  99716  Miranda Priestly      202298            1883          Golden Ave   \n",
       "\n",
       "            ssn  \n",
       "9985  987756388  "
      ]
     },
     "metadata": {},
     "output_type": "display_data"
    }
   ],
   "source": [
    "display(mastermind)"
   ]
  },
  {
   "cell_type": "code",
   "execution_count": 21,
   "id": "df25778d",
   "metadata": {},
   "outputs": [
    {
     "name": "stdout",
     "output_type": "stream",
     "text": [
      "INSERT INTO solution VALUES (1, 'Miranda Priestly');SELECT value FROM solution;\n"
     ]
    }
   ],
   "source": [
    "query = f\"INSERT INTO solution VALUES (1, '{mastermind['name'].iloc[0]}');SELECT value FROM solution;\"\n",
    "print(query)"
   ]
  },
  {
   "cell_type": "code",
   "execution_count": 22,
   "id": "a1ae8a25",
   "metadata": {},
   "outputs": [
    {
     "name": "stdout",
     "output_type": "stream",
     "text": [
      "Congrats, you found the brains behind the murder! Everyone in SQL City hails you as the greatest SQL detective of all time. Time to break out the champagne!\n"
     ]
    }
   ],
   "source": [
    "%%bash\n",
    "\n",
    "sqlite3 sql-murder-mystery.db \"INSERT INTO solution VALUES (1, 'Miranda Priestly');SELECT value FROM solution;\""
   ]
  }
 ],
 "metadata": {
  "jupytext": {
   "cell_metadata_filter": "-all",
   "main_language": "python",
   "notebook_metadata_filter": "-all"
  },
  "kernelspec": {
   "display_name": "Python 3 (ipykernel)",
   "language": "python",
   "name": "python3"
  },
  "language_info": {
   "codemirror_mode": {
    "name": "ipython",
    "version": 3
   },
   "file_extension": ".py",
   "mimetype": "text/x-python",
   "name": "python",
   "nbconvert_exporter": "python",
   "pygments_lexer": "ipython3",
   "version": "3.10.8"
  }
 },
 "nbformat": 4,
 "nbformat_minor": 5
}
